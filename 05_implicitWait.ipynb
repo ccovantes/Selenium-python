{
 "cells": [
  {
   "cell_type": "code",
   "execution_count": 1,
   "id": "a0fa82bf",
   "metadata": {},
   "outputs": [],
   "source": [
    "import unittest\n",
    "from selenium import webdriver\n",
    "from selenium.webdriver.common.by import By\n",
    "from selenium.webdriver.support.ui import WebDriverWait\n",
    "from selenium.webdriver.support import expected_conditions as EC\n",
    "from selenium.webdriver.common.keys import Keys\n",
    "import time "
   ]
  },
  {
   "cell_type": "code",
   "execution_count": 2,
   "id": "42601ada",
   "metadata": {},
   "outputs": [
    {
     "name": "stderr",
     "output_type": "stream",
     "text": [
      "C:\\Users\\IRMATI~1\\AppData\\Local\\Temp/ipykernel_37168/2866133812.py:4: DeprecationWarning: executable_path has been deprecated, please pass in a Service object\n",
      "  self.driver = webdriver.Chrome(executable_path=r\"C:\\\\driver_chrome\\\\chromedriver.exe\")\n",
      "C:\\Users\\IRMATI~1\\AppData\\Local\\Temp/ipykernel_37168/2866133812.py:10: DeprecationWarning: find_element_by_* commands are deprecated. Please use find_element() instead\n",
      "  myDynamicElement = driver.find_element_by_name('q')\n",
      ".C:\\Anaconda3\\lib\\unittest\\suite.py:84: ResourceWarning: unclosed <socket.socket fd=1424, family=AddressFamily.AF_INET6, type=SocketKind.SOCK_STREAM, proto=0, laddr=('::1', 64398, 0, 0), raddr=('::1', 64395, 0, 0)>\n",
      "  return self.run(*args, **kwds)\n",
      "ResourceWarning: Enable tracemalloc to get the object allocation traceback\n",
      "\n",
      "----------------------------------------------------------------------\n",
      "Ran 1 test in 15.436s\n",
      "\n",
      "OK\n"
     ]
    }
   ],
   "source": [
    "##Espera un tiempo determinado implicit wait - este es de selenium\n",
    "#rango de espera\n",
    "class espera_unittest(unittest.TestCase):\n",
    "    def setUp(self):\n",
    "        self.driver = webdriver.Chrome(executable_path=r\"C:\\\\driver_chrome\\\\chromedriver.exe\")\n",
    "        \n",
    "    def test_usando_explicit_wait(self):\n",
    "        driver = self.driver\n",
    "        driver.implicitly_wait(5)\n",
    "        driver.get(\"http://www.google.com\")\n",
    "        myDynamicElement = driver.find_element_by_name('q')\n",
    "        #driver.quit()\n",
    "    \n",
    "if __name__ == \"__main__\":\n",
    "    unittest.main(argv=['first-arg-is-ignored'], exit=False)"
   ]
  },
  {
   "cell_type": "code",
   "execution_count": null,
   "id": "3b731a78",
   "metadata": {},
   "outputs": [],
   "source": []
  }
 ],
 "metadata": {
  "kernelspec": {
   "display_name": "Python 3 (ipykernel)",
   "language": "python",
   "name": "python3"
  },
  "language_info": {
   "codemirror_mode": {
    "name": "ipython",
    "version": 3
   },
   "file_extension": ".py",
   "mimetype": "text/x-python",
   "name": "python",
   "nbconvert_exporter": "python",
   "pygments_lexer": "ipython3",
   "version": "3.8.8"
  }
 },
 "nbformat": 4,
 "nbformat_minor": 5
}
