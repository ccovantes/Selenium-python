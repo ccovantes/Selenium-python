{
 "cells": [
  {
   "cell_type": "code",
   "execution_count": 6,
   "id": "dcd0d7d7",
   "metadata": {},
   "outputs": [],
   "source": [
    "#Librerias\n",
    "from selenium import webdriver\n",
    "from selenium.webdriver.support.ui import WebDriverWait\n",
    "from selenium.webdriver.support import expected_conditions as EC\n",
    "from selenium.webdriver.common.by import By\n",
    "import time\n",
    "import pandas as pd"
   ]
  },
  {
   "cell_type": "code",
   "execution_count": 11,
   "id": "7ae454e4",
   "metadata": {},
   "outputs": [
    {
     "name": "stderr",
     "output_type": "stream",
     "text": [
      "C:\\Users\\IRMATI~1\\AppData\\Local\\Temp/ipykernel_33304/2761516752.py:8: DeprecationWarning: executable_path has been deprecated, please pass in a Service object\n",
      "  driver = webdriver.Chrome(driver_path,chrome_options=options)\n",
      "C:\\Users\\IRMATI~1\\AppData\\Local\\Temp/ipykernel_33304/2761516752.py:8: DeprecationWarning: use options instead of chrome_options\n",
      "  driver = webdriver.Chrome(driver_path,chrome_options=options)\n",
      "C:\\Users\\IRMATI~1\\AppData\\Local\\Temp/ipykernel_33304/2761516752.py:55: DeprecationWarning: find_element_by_* commands are deprecated. Please use find_element() instead\n",
      "  texto_columnas = driver.find_element_by_xpath('/html/body/div[5]/main/div[4]/div/section[4]/section/div[1]/ul')\n"
     ]
    }
   ],
   "source": [
    "#Opciones de nevegación\n",
    "options = webdriver.ChromeOptions()\n",
    "options.add_argument('--start-maximized')\n",
    "options.add_argument('--disable-extensions')\n",
    "\n",
    "driver_path = 'C:\\\\driver_chrome\\\\chromedriver.exe'\n",
    "\n",
    "driver = webdriver.Chrome(driver_path,chrome_options=options)\n",
    "\n",
    "#Iniciar en la pantalla 2\n",
    "driver.set_window_position(2000,0)\n",
    "driver.maximize_window()\n",
    "time.sleep(1)\n",
    "\n",
    "#Iniciamos el navegador\n",
    "#driver.get('https://www.mercadolibre.com.mx')\n",
    "driver.get('https://eltiempo.es')\n",
    "\n",
    "WebDriverWait(driver,5)\\\n",
    "    .until(EC.element_to_be_clickable([By.CSS_SELECTOR,\n",
    "                                      'button.didomi-components-button didomi-button didomi-dismiss-button didomi-components-button--color didomi-button-highlight highlight-button'.replace(' ','.')]))\\\n",
    "    .click()\n",
    "\n",
    "WebDriverWait(driver,5)\\\n",
    "    .until(EC.element_to_be_clickable([By.CSS_SELECTOR,\n",
    "                                      'input#term']))\\\n",
    "    .send_keys('Mexico')\n",
    "\n",
    "#WebDriverWait(driver,5)\\\n",
    "#    .until(EC.element_to_be_clickable([By.CSS_SELECTOR,\n",
    "#                                      'i.icon.icon-search']))\\\n",
    "#    .click()\n",
    "\n",
    "#WebDriverWait(driver,5)\\\n",
    "#    .until(EC.element_to_be_clickable([By.XPATH,\n",
    "#                                      '/html/body/div[5]/nav/div[2]/div[1]/div[3]/div[1]/div[1]/form/label/button/i']))\\\n",
    "#    .click()\n",
    "\n",
    "WebDriverWait(driver,5)\\\n",
    "    .until(EC.element_to_be_clickable([By.XPATH,\n",
    "                                      '/html/body/div[5]/nav/div[2]/div[1]/div[3]/div[1]/div[1]/ul/li[1]/a/span[2]']))\\\n",
    "    .click()\n",
    "\n",
    "\n",
    "WebDriverWait(driver,5)\\\n",
    "    .until(EC.element_to_be_clickable([By.XPATH,\n",
    "                                      '/html/body/div[5]/main/div[4]/div/section[4]/section/div/article/section/ul/li[2]/a']))\\\n",
    "    .click()\n",
    "\n",
    "\n",
    "WebDriverWait(driver,5)\\\n",
    "    .until(EC.element_to_be_clickable([By.XPATH,\n",
    "                                      '/html/body/div[5]/main/div[4]/div/section[4]/section/div[1]/ul']))\\\n",
    "\n",
    "texto_columnas = driver.find_element_by_xpath('/html/body/div[5]/main/div[4]/div/section[4]/section/div[1]/ul')\n",
    "texto_columnas = texto_columnas.text\n",
    "\n",
    "#print(texto_columnas)\n",
    "\n",
    "\n"
   ]
  },
  {
   "cell_type": "code",
   "execution_count": 12,
   "id": "ab566b4f",
   "metadata": {},
   "outputs": [
    {
     "name": "stdout",
     "output_type": "stream",
     "text": [
      "['13', '21°', '7', 'km/h', '14', '22°', '7', 'km/h', '15', '22°', '8', 'km/h', '16', '22°', '9', 'km/h', '17', '21°', '11', 'km/h', '18', '20°', '12', 'km/h', '19', '19°', '11', 'km/h', '20', '18°', '11', 'km/h', '21', '16°', '10', 'km/h', '22', '16°', '9', 'km/h', '23', '15°', '7', 'km/h']\n"
     ]
    }
   ],
   "source": [
    "tiempo_hoy = texto_columnas.split('Mañana')[0].split('\\n')[1:-1]\n",
    "print(tiempo_hoy)"
   ]
  },
  {
   "cell_type": "code",
   "execution_count": 13,
   "id": "be2ff494",
   "metadata": {},
   "outputs": [
    {
     "name": "stdout",
     "output_type": "stream",
     "text": [
      "   Horas Temperatura V_viento(km/h)\n",
      "0     13         21°              7\n",
      "1     14         22°              7\n",
      "2     15         22°              8\n",
      "3     16         22°              9\n",
      "4     17         21°             11\n",
      "5     18         20°             12\n",
      "6     19         19°             11\n",
      "7     20         18°             11\n",
      "8     21         16°             10\n",
      "9     22         16°              9\n",
      "10    23         15°              7\n"
     ]
    }
   ],
   "source": [
    "#nomas = texto_columnas.split('Mañana')[0]\n",
    "#print(nomas)\n",
    "horas = list()\n",
    "temperatura = list()\n",
    "v_viento = list()\n",
    "\n",
    "for i in range(0,len(tiempo_hoy),4):\n",
    "    horas.append(tiempo_hoy[i])\n",
    "    temperatura.append(tiempo_hoy[i+1])\n",
    "    v_viento.append(tiempo_hoy[i+2])\n",
    "    \n",
    "df = pd.DataFrame({'Horas':horas,'Temperatura':temperatura,'V_viento(km/h)':v_viento})\n",
    "print(df)"
   ]
  },
  {
   "cell_type": "code",
   "execution_count": 14,
   "id": "b0afbb26",
   "metadata": {},
   "outputs": [],
   "source": [
    "df.to_csv('tiempo_hoy.csv',index=False)\n",
    "driver.quit()\n",
    "#driver.close()"
   ]
  },
  {
   "cell_type": "code",
   "execution_count": null,
   "id": "5ec00445",
   "metadata": {},
   "outputs": [],
   "source": []
  }
 ],
 "metadata": {
  "kernelspec": {
   "display_name": "Python 3 (ipykernel)",
   "language": "python",
   "name": "python3"
  },
  "language_info": {
   "codemirror_mode": {
    "name": "ipython",
    "version": 3
   },
   "file_extension": ".py",
   "mimetype": "text/x-python",
   "name": "python",
   "nbconvert_exporter": "python",
   "pygments_lexer": "ipython3",
   "version": "3.8.8"
  }
 },
 "nbformat": 4,
 "nbformat_minor": 5
}
