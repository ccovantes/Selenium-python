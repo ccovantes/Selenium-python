{
 "cells": [
  {
   "cell_type": "code",
   "execution_count": 88,
   "id": "d6e33e7d",
   "metadata": {},
   "outputs": [],
   "source": [
    "#Librerias\n",
    "from selenium import webdriver\n",
    "from selenium.webdriver.support.ui import WebDriverWait\n",
    "from selenium.webdriver.support import expected_conditions as EC\n",
    "from selenium.webdriver.common.by import By\n",
    "from selenium.webdriver.common.keys import Keys\n",
    "import time\n",
    "import pandas as pd"
   ]
  },
  {
   "cell_type": "code",
   "execution_count": 100,
   "id": "6677cbe4",
   "metadata": {},
   "outputs": [],
   "source": [
    "def getWebPage(pagina):\n",
    "    print(pagina)\n",
    "    driver.get(pagina)"
   ]
  },
  {
   "cell_type": "code",
   "execution_count": 121,
   "id": "31990f0e",
   "metadata": {},
   "outputs": [],
   "source": [
    "def loginPage(user,password):\n",
    "    usuario = driver.find_element_by_id(\"email\")\n",
    "    usuario.send_keys(user)\n",
    "    #usuario.send_keys(Keys.ENTER)\n",
    "    time.sleep(3)\n",
    "    print(user)\n",
    "    contra = driver.find_element_by_id(\"pass\")\n",
    "    #driver.find_element_by_link_text(\"\")\n",
    "    contra.send_keys(password)\n",
    "    #contra.send_keys(Keys.ENTER)\n",
    "    time.sleep(3)\n",
    "    print(password)\n",
    "    driver.find_element_by_css_selector('button._42ft._4jy0._6lth._4jy6._4jy1.selected._51sy').click()\n",
    "    time.sleep(3)\n",
    "    \n",
    "    #driver.find_element_by_name('login').click()\n",
    "    #driver.find_element_by_class_name(\"login\").click()\n",
    "    #driver.find_element_by_xpath('/html/body/div[1]/div[2]/div[1]/div/div[2]/div[2]/form/div/div[3]/button').click()\n",
    "    \n",
    "    #WebDriverWait(driver,5)\\\n",
    "    #.until(EC.element_to_be_clickable([By.CSS_SELECTOR,\n",
    "    #                                  'button._42ft._4jy0._6lth._4jy6._4jy1.selected._51sy']))\\\n",
    "    #.click()\n",
    "    \n",
    "    #boton = driver.find_element_by_class_name(\"_42ft._4jy0._6lth._4jy6._4jy1.selected._51sy\")\n",
    "    #print(boton)\n",
    "    #boton.click()\n",
    "    \n",
    "    "
   ]
  },
  {
   "cell_type": "code",
   "execution_count": 168,
   "id": "d9c0661c",
   "metadata": {},
   "outputs": [],
   "source": [
    "def buscaAmigos(amigo):\n",
    "    #driver.find_element_by_css_selector('span.a8c37x1j.ni8dbmo4.stjgntxs.l9j0dhe7').click()\n",
    "    #time.sleep(3)\n",
    "    driver.find_element_by_xpath('/html/body/div[1]/div/div[1]/div/div[3]/div/div/div[1]/div[1]/div/div[1]/div/div/div[1]/div/div/div[1]/div[1]/ul/li[1]/div/a/div[1]/div[2]/div/div/div/div/span/span').click()\n",
    "    time.sleep(5)\n",
    "    #driver.find_element_by_class_name('span#d2edcug0 hpfvmrgz qv66sw1b c1et5uql lr9zc1uh a5q79mjw g1cxx5fr ekzkrbhg oo9gr5id'.replace(' ','.')).click()\n",
    "    #driver.find_element_by_css_selector(\"span.d2edcug0.hpfvmrgz.qv66sw1b.c1et5uql.lr9zc1uh.a5q79mjw.g1cxx5fr.ekzkrbhg.oo9gr5id\").click()\n",
    "    #driver.find_element_by_xpath('/html/body/div[1]/div/div[1]/div/div[3]/div/div/div[1]/div[1]/div[1]/div/div[2]/div[1]/div[2]/div/div/div[4]/a/div[1]/div[2]/div[1]/div/div/div/span/span').click()\n",
    "    #time.sleep(3)\n",
    "    #driver.find_element_by_xpath(\"//span[text()='Todos los amigos']\").click()\n",
    "    driver.find_element_by_xpath(\"//span[@class='d2edcug0.hpfvmrgz.qv66sw1b.c1et5uql.lr9zc1uh.a5q79mjw.g1cxx5fr.ekzkrbhg.oo9gr5id']\").click()\n",
    "    #driver.find_element(By.xpath(\"//span[@class='d2edcug0.hpfvmrgz.qv66sw1b.c1et5uql.lr9zc1uh.a5q79mjw.g1cxx5fr.ekzkrbhg.oo9gr5id']\")).click()\n",
    "    #driver.find_element_by_xpath(\"//span[contains(@class,'d2edcug0.hpfvmrgz.qv66sw1b.c1et5uql.lr9zc1uh.a5q79mjw.g1cxx5fr.ekzkrbhg.oo9gr5id')]\").click()\n",
    "    #WebDriverWait(driver, 4).until(EC.element_to_be_clickable((By.CSS_SELECTOR, \"span.d2edcug0.hpfvmrgz.qv66sw1b.c1et5uql.lr9zc1uh.a5q79mjw.g1cxx5fr.ekzkrbhg.oo9gr5id\"))).click()\n",
    "    #WebDriverWait(driver, 4).until(EC.element_to_be_clickable((By.CSS_SELECTOR, \"span.d2edcug0.hpfvmrgz.qv66sw1b.c1et5uql.lr9zc1uh.a5q79mjw.g1cxx5fr.ekzkrbhg.oo9gr5id\"))).click()"
   ]
  },
  {
   "cell_type": "code",
   "execution_count": 169,
   "id": "8697b0c1",
   "metadata": {},
   "outputs": [
    {
     "name": "stderr",
     "output_type": "stream",
     "text": [
      "C:\\Users\\IRMATI~1\\AppData\\Local\\Temp/ipykernel_29508/3569017398.py:9: DeprecationWarning: executable_path has been deprecated, please pass in a Service object\n",
      "  driver = webdriver.Chrome(driver_path,chrome_options=options)\n",
      "C:\\Users\\IRMATI~1\\AppData\\Local\\Temp/ipykernel_29508/3569017398.py:9: DeprecationWarning: use options instead of chrome_options\n",
      "  driver = webdriver.Chrome(driver_path,chrome_options=options)\n"
     ]
    },
    {
     "name": "stdout",
     "output_type": "stream",
     "text": [
      "http://www.facebook.com\n"
     ]
    },
    {
     "name": "stderr",
     "output_type": "stream",
     "text": [
      "C:\\Users\\IRMATI~1\\AppData\\Local\\Temp/ipykernel_29508/1559178229.py:2: DeprecationWarning: find_element_by_* commands are deprecated. Please use find_element() instead\n",
      "  usuario = driver.find_element_by_id(\"email\")\n"
     ]
    },
    {
     "name": "stdout",
     "output_type": "stream",
     "text": [
      "zadoon08@hotmail.com\n"
     ]
    },
    {
     "name": "stderr",
     "output_type": "stream",
     "text": [
      "C:\\Users\\IRMATI~1\\AppData\\Local\\Temp/ipykernel_29508/1559178229.py:7: DeprecationWarning: find_element_by_* commands are deprecated. Please use find_element() instead\n",
      "  contra = driver.find_element_by_id(\"pass\")\n"
     ]
    },
    {
     "name": "stdout",
     "output_type": "stream",
     "text": [
      "ccovantes32\n"
     ]
    },
    {
     "name": "stderr",
     "output_type": "stream",
     "text": [
      "C:\\Users\\IRMATI~1\\AppData\\Local\\Temp/ipykernel_29508/1559178229.py:12: DeprecationWarning: find_element_by_* commands are deprecated. Please use find_element() instead\n",
      "  driver.find_element_by_css_selector('button._42ft._4jy0._6lth._4jy6._4jy1.selected._51sy').click()\n",
      "C:\\Users\\IRMATI~1\\AppData\\Local\\Temp/ipykernel_29508/785566136.py:4: DeprecationWarning: find_element_by_* commands are deprecated. Please use find_element() instead\n",
      "  driver.find_element_by_xpath('/html/body/div[1]/div/div[1]/div/div[3]/div/div/div[1]/div[1]/div/div[1]/div/div/div[1]/div/div/div[1]/div[1]/ul/li[1]/div/a/div[1]/div[2]/div/div/div/div/span/span').click()\n",
      "C:\\Users\\IRMATI~1\\AppData\\Local\\Temp/ipykernel_29508/785566136.py:11: DeprecationWarning: find_element_by_* commands are deprecated. Please use find_element() instead\n",
      "  driver.find_element_by_xpath(\"//span[@class='d2edcug0.hpfvmrgz.qv66sw1b.c1et5uql.lr9zc1uh.a5q79mjw.g1cxx5fr.ekzkrbhg.oo9gr5id']\").click()\n"
     ]
    },
    {
     "ename": "NoSuchElementException",
     "evalue": "Message: no such element: Unable to locate element: {\"method\":\"xpath\",\"selector\":\"//span[@class='d2edcug0.hpfvmrgz.qv66sw1b.c1et5uql.lr9zc1uh.a5q79mjw.g1cxx5fr.ekzkrbhg.oo9gr5id']\"}\n  (Session info: chrome=97.0.4692.71)\nStacktrace:\nBacktrace:\n\tOrdinal0 [0x009BFDC3+2555331]\n\tOrdinal0 [0x009577F1+2127857]\n\tOrdinal0 [0x00852E08+1060360]\n\tOrdinal0 [0x0087E49E+1238174]\n\tOrdinal0 [0x0087E69B+1238683]\n\tOrdinal0 [0x008A9252+1413714]\n\tOrdinal0 [0x00897B54+1342292]\n\tOrdinal0 [0x008A75FA+1406458]\n\tOrdinal0 [0x00897976+1341814]\n\tOrdinal0 [0x008736B6+1193654]\n\tOrdinal0 [0x00874546+1197382]\n\tGetHandleVerifier [0x00B59622+1619522]\n\tGetHandleVerifier [0x00C0882C+2336844]\n\tGetHandleVerifier [0x00A523E1+541697]\n\tGetHandleVerifier [0x00A51443+537699]\n\tOrdinal0 [0x0095D18E+2150798]\n\tOrdinal0 [0x00961518+2168088]\n\tOrdinal0 [0x00961660+2168416]\n\tOrdinal0 [0x0096B330+2208560]\n\tBaseThreadInitThunk [0x768AFA29+25]\n\tRtlGetAppContainerNamedObjectPath [0x76FC7A9E+286]\n\tRtlGetAppContainerNamedObjectPath [0x76FC7A6E+238]\n",
     "output_type": "error",
     "traceback": [
      "\u001b[1;31m---------------------------------------------------------------------------\u001b[0m",
      "\u001b[1;31mNoSuchElementException\u001b[0m                    Traceback (most recent call last)",
      "\u001b[1;32mC:\\Users\\IRMATI~1\\AppData\\Local\\Temp/ipykernel_29508/3569017398.py\u001b[0m in \u001b[0;36m<module>\u001b[1;34m\u001b[0m\n\u001b[0;32m     25\u001b[0m \u001b[1;31m#Busca amigos\u001b[0m\u001b[1;33m\u001b[0m\u001b[1;33m\u001b[0m\u001b[1;33m\u001b[0m\u001b[0m\n\u001b[0;32m     26\u001b[0m \u001b[0mamigo\u001b[0m \u001b[1;33m=\u001b[0m \u001b[1;34m'Irma Tirado'\u001b[0m\u001b[1;33m\u001b[0m\u001b[1;33m\u001b[0m\u001b[0m\n\u001b[1;32m---> 27\u001b[1;33m \u001b[0mbuscaAmigos\u001b[0m\u001b[1;33m(\u001b[0m\u001b[0mamigo\u001b[0m\u001b[1;33m)\u001b[0m\u001b[1;33m\u001b[0m\u001b[1;33m\u001b[0m\u001b[0m\n\u001b[0m",
      "\u001b[1;32mC:\\Users\\IRMATI~1\\AppData\\Local\\Temp/ipykernel_29508/785566136.py\u001b[0m in \u001b[0;36mbuscaAmigos\u001b[1;34m(amigo)\u001b[0m\n\u001b[0;32m      9\u001b[0m     \u001b[1;31m#time.sleep(3)\u001b[0m\u001b[1;33m\u001b[0m\u001b[1;33m\u001b[0m\u001b[1;33m\u001b[0m\u001b[0m\n\u001b[0;32m     10\u001b[0m     \u001b[1;31m#driver.find_element_by_xpath(\"//span[text()='Todos los amigos']\").click()\u001b[0m\u001b[1;33m\u001b[0m\u001b[1;33m\u001b[0m\u001b[1;33m\u001b[0m\u001b[0m\n\u001b[1;32m---> 11\u001b[1;33m     \u001b[0mdriver\u001b[0m\u001b[1;33m.\u001b[0m\u001b[0mfind_element_by_xpath\u001b[0m\u001b[1;33m(\u001b[0m\u001b[1;34m\"//span[@class='d2edcug0.hpfvmrgz.qv66sw1b.c1et5uql.lr9zc1uh.a5q79mjw.g1cxx5fr.ekzkrbhg.oo9gr5id']\"\u001b[0m\u001b[1;33m)\u001b[0m\u001b[1;33m.\u001b[0m\u001b[0mclick\u001b[0m\u001b[1;33m(\u001b[0m\u001b[1;33m)\u001b[0m\u001b[1;33m\u001b[0m\u001b[1;33m\u001b[0m\u001b[0m\n\u001b[0m\u001b[0;32m     12\u001b[0m     \u001b[1;31m#driver.find_element(By.xpath(\"//span[@class='d2edcug0.hpfvmrgz.qv66sw1b.c1et5uql.lr9zc1uh.a5q79mjw.g1cxx5fr.ekzkrbhg.oo9gr5id']\")).click()\u001b[0m\u001b[1;33m\u001b[0m\u001b[1;33m\u001b[0m\u001b[1;33m\u001b[0m\u001b[0m\n\u001b[0;32m     13\u001b[0m     \u001b[1;31m#driver.find_element_by_xpath(\"//span[contains(@class,'d2edcug0.hpfvmrgz.qv66sw1b.c1et5uql.lr9zc1uh.a5q79mjw.g1cxx5fr.ekzkrbhg.oo9gr5id')]\").click()\u001b[0m\u001b[1;33m\u001b[0m\u001b[1;33m\u001b[0m\u001b[1;33m\u001b[0m\u001b[0m\n",
      "\u001b[1;32mC:\\Anaconda3\\lib\\site-packages\\selenium\\webdriver\\remote\\webdriver.py\u001b[0m in \u001b[0;36mfind_element_by_xpath\u001b[1;34m(self, xpath)\u001b[0m\n\u001b[0;32m    518\u001b[0m             \u001b[0mstacklevel\u001b[0m\u001b[1;33m=\u001b[0m\u001b[1;36m2\u001b[0m\u001b[1;33m,\u001b[0m\u001b[1;33m\u001b[0m\u001b[1;33m\u001b[0m\u001b[0m\n\u001b[0;32m    519\u001b[0m         )\n\u001b[1;32m--> 520\u001b[1;33m         \u001b[1;32mreturn\u001b[0m \u001b[0mself\u001b[0m\u001b[1;33m.\u001b[0m\u001b[0mfind_element\u001b[0m\u001b[1;33m(\u001b[0m\u001b[0mby\u001b[0m\u001b[1;33m=\u001b[0m\u001b[0mBy\u001b[0m\u001b[1;33m.\u001b[0m\u001b[0mXPATH\u001b[0m\u001b[1;33m,\u001b[0m \u001b[0mvalue\u001b[0m\u001b[1;33m=\u001b[0m\u001b[0mxpath\u001b[0m\u001b[1;33m)\u001b[0m\u001b[1;33m\u001b[0m\u001b[1;33m\u001b[0m\u001b[0m\n\u001b[0m\u001b[0;32m    521\u001b[0m \u001b[1;33m\u001b[0m\u001b[0m\n\u001b[0;32m    522\u001b[0m     \u001b[1;32mdef\u001b[0m \u001b[0mfind_elements_by_xpath\u001b[0m\u001b[1;33m(\u001b[0m\u001b[0mself\u001b[0m\u001b[1;33m,\u001b[0m \u001b[0mxpath\u001b[0m\u001b[1;33m)\u001b[0m \u001b[1;33m->\u001b[0m \u001b[0mWebElement\u001b[0m\u001b[1;33m:\u001b[0m\u001b[1;33m\u001b[0m\u001b[1;33m\u001b[0m\u001b[0m\n",
      "\u001b[1;32mC:\\Anaconda3\\lib\\site-packages\\selenium\\webdriver\\remote\\webdriver.py\u001b[0m in \u001b[0;36mfind_element\u001b[1;34m(self, by, value)\u001b[0m\n\u001b[0;32m   1242\u001b[0m             \u001b[0mvalue\u001b[0m \u001b[1;33m=\u001b[0m \u001b[1;34m'[name=\"%s\"]'\u001b[0m \u001b[1;33m%\u001b[0m \u001b[0mvalue\u001b[0m\u001b[1;33m\u001b[0m\u001b[1;33m\u001b[0m\u001b[0m\n\u001b[0;32m   1243\u001b[0m \u001b[1;33m\u001b[0m\u001b[0m\n\u001b[1;32m-> 1244\u001b[1;33m         return self.execute(Command.FIND_ELEMENT, {\n\u001b[0m\u001b[0;32m   1245\u001b[0m             \u001b[1;34m'using'\u001b[0m\u001b[1;33m:\u001b[0m \u001b[0mby\u001b[0m\u001b[1;33m,\u001b[0m\u001b[1;33m\u001b[0m\u001b[1;33m\u001b[0m\u001b[0m\n\u001b[0;32m   1246\u001b[0m             'value': value})['value']\n",
      "\u001b[1;32mC:\\Anaconda3\\lib\\site-packages\\selenium\\webdriver\\remote\\webdriver.py\u001b[0m in \u001b[0;36mexecute\u001b[1;34m(self, driver_command, params)\u001b[0m\n\u001b[0;32m    422\u001b[0m         \u001b[0mresponse\u001b[0m \u001b[1;33m=\u001b[0m \u001b[0mself\u001b[0m\u001b[1;33m.\u001b[0m\u001b[0mcommand_executor\u001b[0m\u001b[1;33m.\u001b[0m\u001b[0mexecute\u001b[0m\u001b[1;33m(\u001b[0m\u001b[0mdriver_command\u001b[0m\u001b[1;33m,\u001b[0m \u001b[0mparams\u001b[0m\u001b[1;33m)\u001b[0m\u001b[1;33m\u001b[0m\u001b[1;33m\u001b[0m\u001b[0m\n\u001b[0;32m    423\u001b[0m         \u001b[1;32mif\u001b[0m \u001b[0mresponse\u001b[0m\u001b[1;33m:\u001b[0m\u001b[1;33m\u001b[0m\u001b[1;33m\u001b[0m\u001b[0m\n\u001b[1;32m--> 424\u001b[1;33m             \u001b[0mself\u001b[0m\u001b[1;33m.\u001b[0m\u001b[0merror_handler\u001b[0m\u001b[1;33m.\u001b[0m\u001b[0mcheck_response\u001b[0m\u001b[1;33m(\u001b[0m\u001b[0mresponse\u001b[0m\u001b[1;33m)\u001b[0m\u001b[1;33m\u001b[0m\u001b[1;33m\u001b[0m\u001b[0m\n\u001b[0m\u001b[0;32m    425\u001b[0m             response['value'] = self._unwrap_value(\n\u001b[0;32m    426\u001b[0m                 response.get('value', None))\n",
      "\u001b[1;32mC:\\Anaconda3\\lib\\site-packages\\selenium\\webdriver\\remote\\errorhandler.py\u001b[0m in \u001b[0;36mcheck_response\u001b[1;34m(self, response)\u001b[0m\n\u001b[0;32m    245\u001b[0m                 \u001b[0malert_text\u001b[0m \u001b[1;33m=\u001b[0m \u001b[0mvalue\u001b[0m\u001b[1;33m[\u001b[0m\u001b[1;34m'alert'\u001b[0m\u001b[1;33m]\u001b[0m\u001b[1;33m.\u001b[0m\u001b[0mget\u001b[0m\u001b[1;33m(\u001b[0m\u001b[1;34m'text'\u001b[0m\u001b[1;33m)\u001b[0m\u001b[1;33m\u001b[0m\u001b[1;33m\u001b[0m\u001b[0m\n\u001b[0;32m    246\u001b[0m             \u001b[1;32mraise\u001b[0m \u001b[0mexception_class\u001b[0m\u001b[1;33m(\u001b[0m\u001b[0mmessage\u001b[0m\u001b[1;33m,\u001b[0m \u001b[0mscreen\u001b[0m\u001b[1;33m,\u001b[0m \u001b[0mstacktrace\u001b[0m\u001b[1;33m,\u001b[0m \u001b[0malert_text\u001b[0m\u001b[1;33m)\u001b[0m  \u001b[1;31m# type: ignore[call-arg]  # mypy is not smart enough here\u001b[0m\u001b[1;33m\u001b[0m\u001b[1;33m\u001b[0m\u001b[0m\n\u001b[1;32m--> 247\u001b[1;33m         \u001b[1;32mraise\u001b[0m \u001b[0mexception_class\u001b[0m\u001b[1;33m(\u001b[0m\u001b[0mmessage\u001b[0m\u001b[1;33m,\u001b[0m \u001b[0mscreen\u001b[0m\u001b[1;33m,\u001b[0m \u001b[0mstacktrace\u001b[0m\u001b[1;33m)\u001b[0m\u001b[1;33m\u001b[0m\u001b[1;33m\u001b[0m\u001b[0m\n\u001b[0m\u001b[0;32m    248\u001b[0m \u001b[1;33m\u001b[0m\u001b[0m\n\u001b[0;32m    249\u001b[0m     \u001b[1;32mdef\u001b[0m \u001b[0m_value_or_default\u001b[0m\u001b[1;33m(\u001b[0m\u001b[0mself\u001b[0m\u001b[1;33m,\u001b[0m \u001b[0mobj\u001b[0m\u001b[1;33m:\u001b[0m \u001b[0mMapping\u001b[0m\u001b[1;33m[\u001b[0m\u001b[0m_KT\u001b[0m\u001b[1;33m,\u001b[0m \u001b[0m_VT\u001b[0m\u001b[1;33m]\u001b[0m\u001b[1;33m,\u001b[0m \u001b[0mkey\u001b[0m\u001b[1;33m:\u001b[0m \u001b[0m_KT\u001b[0m\u001b[1;33m,\u001b[0m \u001b[0mdefault\u001b[0m\u001b[1;33m:\u001b[0m \u001b[0m_VT\u001b[0m\u001b[1;33m)\u001b[0m \u001b[1;33m->\u001b[0m \u001b[0m_VT\u001b[0m\u001b[1;33m:\u001b[0m\u001b[1;33m\u001b[0m\u001b[1;33m\u001b[0m\u001b[0m\n",
      "\u001b[1;31mNoSuchElementException\u001b[0m: Message: no such element: Unable to locate element: {\"method\":\"xpath\",\"selector\":\"//span[@class='d2edcug0.hpfvmrgz.qv66sw1b.c1et5uql.lr9zc1uh.a5q79mjw.g1cxx5fr.ekzkrbhg.oo9gr5id']\"}\n  (Session info: chrome=97.0.4692.71)\nStacktrace:\nBacktrace:\n\tOrdinal0 [0x009BFDC3+2555331]\n\tOrdinal0 [0x009577F1+2127857]\n\tOrdinal0 [0x00852E08+1060360]\n\tOrdinal0 [0x0087E49E+1238174]\n\tOrdinal0 [0x0087E69B+1238683]\n\tOrdinal0 [0x008A9252+1413714]\n\tOrdinal0 [0x00897B54+1342292]\n\tOrdinal0 [0x008A75FA+1406458]\n\tOrdinal0 [0x00897976+1341814]\n\tOrdinal0 [0x008736B6+1193654]\n\tOrdinal0 [0x00874546+1197382]\n\tGetHandleVerifier [0x00B59622+1619522]\n\tGetHandleVerifier [0x00C0882C+2336844]\n\tGetHandleVerifier [0x00A523E1+541697]\n\tGetHandleVerifier [0x00A51443+537699]\n\tOrdinal0 [0x0095D18E+2150798]\n\tOrdinal0 [0x00961518+2168088]\n\tOrdinal0 [0x00961660+2168416]\n\tOrdinal0 [0x0096B330+2208560]\n\tBaseThreadInitThunk [0x768AFA29+25]\n\tRtlGetAppContainerNamedObjectPath [0x76FC7A9E+286]\n\tRtlGetAppContainerNamedObjectPath [0x76FC7A6E+238]\n"
     ]
    }
   ],
   "source": [
    "#Opciones de nevegación\n",
    "options = webdriver.ChromeOptions()\n",
    "options.add_argument('--start-maximized')\n",
    "options.add_argument('--disable-extensions')\n",
    "\n",
    "driver_path = 'C:\\\\driver_chrome\\\\chromedriver.exe'\n",
    "\n",
    "global driver \n",
    "driver = webdriver.Chrome(driver_path,chrome_options=options)\n",
    "\n",
    "#Iniciar en la pantalla 2\n",
    "driver.set_window_position(2000,0)\n",
    "driver.maximize_window()\n",
    "time.sleep(1)\n",
    "\n",
    "#Iniciamos el navegador\n",
    "pagina = 'http://www.facebook.com'\n",
    "getWebPage(pagina)\n",
    "\n",
    "#Datos usuario\n",
    "user = 'zadoon08@hotmail.com'\n",
    "password = 'ccovantes32'\n",
    "loginPage(user,password)\n",
    "\n",
    "#Busca amigos\n",
    "amigo = 'Irma Tirado'\n",
    "buscaAmigos(amigo)\n"
   ]
  },
  {
   "cell_type": "code",
   "execution_count": null,
   "id": "ddf57705",
   "metadata": {},
   "outputs": [],
   "source": []
  }
 ],
 "metadata": {
  "kernelspec": {
   "display_name": "Python 3 (ipykernel)",
   "language": "python",
   "name": "python3"
  },
  "language_info": {
   "codemirror_mode": {
    "name": "ipython",
    "version": 3
   },
   "file_extension": ".py",
   "mimetype": "text/x-python",
   "name": "python",
   "nbconvert_exporter": "python",
   "pygments_lexer": "ipython3",
   "version": "3.8.8"
  }
 },
 "nbformat": 4,
 "nbformat_minor": 5
}
