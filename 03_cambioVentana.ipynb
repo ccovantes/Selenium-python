{
 "cells": [
  {
   "cell_type": "code",
   "execution_count": 1,
   "id": "45fb20dc",
   "metadata": {},
   "outputs": [],
   "source": [
    "import unittest\n",
    "from selenium import webdriver\n",
    "from selenium.webdriver.common.keys import Keys\n",
    "import time "
   ]
  },
  {
   "cell_type": "code",
   "execution_count": 5,
   "id": "bc258f99",
   "metadata": {},
   "outputs": [
    {
     "name": "stderr",
     "output_type": "stream",
     "text": [
      "C:\\Users\\IRMATI~1\\AppData\\Local\\Temp/ipykernel_37680/1582187423.py:3: ResourceWarning: unclosed <socket.socket fd=1400, family=AddressFamily.AF_INET6, type=SocketKind.SOCK_STREAM, proto=0, laddr=('::1', 62197, 0, 0), raddr=('::1', 62194, 0, 0)>\n",
      "  self.driver = webdriver.Chrome(executable_path=r\"C:\\\\driver_chrome\\\\chromedriver.exe\")\n",
      "ResourceWarning: Enable tracemalloc to get the object allocation traceback\n",
      "C:\\Users\\IRMATI~1\\AppData\\Local\\Temp/ipykernel_37680/1582187423.py:3: DeprecationWarning: executable_path has been deprecated, please pass in a Service object\n",
      "  self.driver = webdriver.Chrome(executable_path=r\"C:\\\\driver_chrome\\\\chromedriver.exe\")\n",
      ".C:\\Anaconda3\\lib\\unittest\\suite.py:84: ResourceWarning: unclosed <socket.socket fd=1452, family=AddressFamily.AF_INET6, type=SocketKind.SOCK_STREAM, proto=0, laddr=('::1', 62239, 0, 0), raddr=('::1', 62237, 0, 0)>\n",
      "  return self.run(*args, **kwds)\n",
      "ResourceWarning: Enable tracemalloc to get the object allocation traceback\n",
      "\n",
      "----------------------------------------------------------------------\n",
      "Ran 1 test in 35.945s\n",
      "\n",
      "OK\n"
     ]
    }
   ],
   "source": [
    "##CAMBIO DE VENTANAS \n",
    "class cambioVentanas_unittest(unittest.TestCase):\n",
    "    def setUp(self):\n",
    "        self.driver = webdriver.Chrome(executable_path=r\"C:\\\\driver_chrome\\\\chromedriver.exe\")\n",
    "    \n",
    "    def test_inicio(self):\n",
    "        driver = self.driver\n",
    "        driver.get(\"http://www.google.com\")\n",
    "        time.sleep(3)\n",
    "        driver.execute_script(\"window.open('');\")\n",
    "        time.sleep(3)\n",
    "        driver.switch_to.window(driver.window_handles[1])\n",
    "        driver.get(\"http://stackoverflow.com\")\n",
    "        time.sleep(3)\n",
    "        driver.switch_to.window(driver.window_handles[0])\n",
    "        time.sleep(3)\n",
    "        \n",
    "\n",
    "        #def desconecta(self):\n",
    "        #    self.driver.close()\n",
    "        \n",
    "if __name__ == \"__main__\":\n",
    "    unittest.main(argv=['first-arg-is-ignored'], exit=False)"
   ]
  },
  {
   "cell_type": "code",
   "execution_count": null,
   "id": "6b51b445",
   "metadata": {},
   "outputs": [],
   "source": []
  }
 ],
 "metadata": {
  "kernelspec": {
   "display_name": "Python 3 (ipykernel)",
   "language": "python",
   "name": "python3"
  },
  "language_info": {
   "codemirror_mode": {
    "name": "ipython",
    "version": 3
   },
   "file_extension": ".py",
   "mimetype": "text/x-python",
   "name": "python",
   "nbconvert_exporter": "python",
   "pygments_lexer": "ipython3",
   "version": "3.8.8"
  }
 },
 "nbformat": 4,
 "nbformat_minor": 5
}
