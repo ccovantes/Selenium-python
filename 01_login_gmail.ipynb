{
 "cells": [
  {
   "cell_type": "code",
   "execution_count": 2,
   "id": "a36ef2b4",
   "metadata": {},
   "outputs": [],
   "source": [
    "#Librerias\n",
    "from selenium import webdriver\n",
    "from selenium.webdriver.support.ui import WebDriverWait\n",
    "from selenium.webdriver.support import expected_conditions as EC\n",
    "from selenium.webdriver.common.by import By\n",
    "from selenium.webdriver.common.keys import Keys\n",
    "import time\n",
    "import pandas as pd"
   ]
  },
  {
   "cell_type": "code",
   "execution_count": 10,
   "id": "767b2992",
   "metadata": {},
   "outputs": [
    {
     "name": "stderr",
     "output_type": "stream",
     "text": [
      "C:\\Users\\IRMATI~1\\AppData\\Local\\Temp/ipykernel_9008/1155081773.py:9: DeprecationWarning: executable_path has been deprecated, please pass in a Service object\n",
      "  driver = webdriver.Chrome(executable_path=r\"C:\\\\driver_chrome\\\\chromedriver.exe\")\n",
      "C:\\Users\\IRMATI~1\\AppData\\Local\\Temp/ipykernel_9008/1155081773.py:28: DeprecationWarning: find_element_by_* commands are deprecated. Please use find_element() instead\n",
      "  usuario = driver.find_element_by_id(\"identifierId\")\n"
     ]
    }
   ],
   "source": [
    "#Opciones de nevegación\n",
    "#options = webdriver.ChromeOptions()\n",
    "#options.add_argument('--start-maximized')\n",
    "#options.add_argument('--disable-extensions')\n",
    "\n",
    "#driver_path = 'C:\\\\driver_chrome\\\\chromedriver.exe'\n",
    "\n",
    "#driver = webdriver.Chrome(driver_path,chrome_options=options)\n",
    "driver = webdriver.Chrome(executable_path=r\"C:\\\\driver_chrome\\\\chromedriver.exe\")\n",
    "\n",
    "#Iniciar en la pantalla 2\n",
    "#driver.set_window_position(2000,0)\n",
    "#driver.maximize_window()\n",
    "time.sleep(1)\n",
    "\n",
    "driver.get('http://www.google.com')\n",
    "\n",
    "WebDriverWait(driver,5)\\\n",
    "    .until(EC.element_to_be_clickable([By.CSS_SELECTOR,\n",
    "                                      'a.gb_d']))\\\n",
    "    .click()\n",
    "\n",
    "WebDriverWait(driver,5)\\\n",
    "    .until(EC.element_to_be_clickable([By.CSS_SELECTOR,\n",
    "                                      'a.button.button--medium.button--mobile-before-hero-only']))\\\n",
    "    .click()\n",
    "\n",
    "#Por ID\n",
    "usuario = driver.find_element_by_id(\"identifierId\")\n",
    "usuario.send_keys(\"cesar.covantes@gmail.com\")\n",
    "usuario.send_keys(Keys.ENTER)\n",
    "time.sleep(3)\n",
    "\n",
    "WebDriverWait(driver,3)\\\n",
    "    .until(EC.element_to_be_clickable([By.CSS_SELECTOR,\n",
    "                                      'span.VfPpkd-vQzf8d']))\\\n",
    "    .click()\n",
    "\n",
    "#Por Name\n",
    "clave = driver.find_element_by_name(\"password\")\n",
    "clave.send_keys(\"tupassword\")\n",
    "clave.send_keys(Keys.ENTER)\n",
    "time.sleep(3)\n",
    "\n",
    "\n",
    "\n",
    "#VfPpkd-vQzf8d\n",
    "\n",
    "\n",
    "#clave = driver.find_element_by_id(\"yDmH0d\")\n",
    "#usuario.send_keys(\"cesar.covantes@gmail.com\")\n",
    "#usuario.send_keys(Keys.ENTER)\n",
    "#time.sleep(3)\n",
    "\n",
    "\n"
   ]
  },
  {
   "cell_type": "code",
   "execution_count": null,
   "id": "1204869d",
   "metadata": {},
   "outputs": [],
   "source": []
  }
 ],
 "metadata": {
  "kernelspec": {
   "display_name": "Python 3 (ipykernel)",
   "language": "python",
   "name": "python3"
  },
  "language_info": {
   "codemirror_mode": {
    "name": "ipython",
    "version": 3
   },
   "file_extension": ".py",
   "mimetype": "text/x-python",
   "name": "python",
   "nbconvert_exporter": "python",
   "pygments_lexer": "ipython3",
   "version": "3.8.8"
  }
 },
 "nbformat": 4,
 "nbformat_minor": 5
}
